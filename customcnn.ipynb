{
 "cells": [
  {
   "cell_type": "code",
   "execution_count": 1,
   "id": "d6bea69c",
   "metadata": {
    "execution": {
     "iopub.execute_input": "2025-08-28T13:35:22.271362Z",
     "iopub.status.busy": "2025-08-28T13:35:22.271079Z",
     "iopub.status.idle": "2025-08-28T13:35:26.217662Z",
     "shell.execute_reply": "2025-08-28T13:35:26.216675Z"
    },
    "executionInfo": {
     "elapsed": 6705,
     "status": "ok",
     "timestamp": 1716718913876,
     "user": {
      "displayName": "Beautiful Mind",
      "userId": "18088270031962857328"
     },
     "user_tz": -360
    },
    "id": "dy2_B330BNLz",
    "outputId": "db790309-debe-4294-f641-3d957fa8b00e",
    "papermill": {
     "duration": 3.955959,
     "end_time": "2025-08-28T13:35:26.219908",
     "exception": false,
     "start_time": "2025-08-28T13:35:22.263949",
     "status": "completed"
    },
    "tags": []
   },
   "outputs": [
    {
     "name": "stdout",
     "output_type": "stream",
     "text": [
      "Requirement already satisfied: torchinfo in /usr/local/lib/python3.11/dist-packages (1.8.0)\r\n"
     ]
    }
   ],
   "source": [
    "!pip install torchinfo"
   ]
  },
  {
   "cell_type": "markdown",
   "id": "9b4d7a8d",
   "metadata": {
    "id": "2834ab4a",
    "papermill": {
     "duration": 0.004805,
     "end_time": "2025-08-28T13:35:26.230445",
     "exception": false,
     "start_time": "2025-08-28T13:35:26.225640",
     "status": "completed"
    },
    "tags": []
   },
   "source": [
    "### Import Libraries"
   ]
  },
  {
   "cell_type": "code",
   "execution_count": 2,
   "id": "4417b7e9",
   "metadata": {
    "execution": {
     "iopub.execute_input": "2025-08-28T13:35:26.241551Z",
     "iopub.status.busy": "2025-08-28T13:35:26.241273Z",
     "iopub.status.idle": "2025-08-28T13:35:38.397749Z",
     "shell.execute_reply": "2025-08-28T13:35:38.397046Z"
    },
    "executionInfo": {
     "elapsed": 8211,
     "status": "ok",
     "timestamp": 1716718955598,
     "user": {
      "displayName": "Beautiful Mind",
      "userId": "18088270031962857328"
     },
     "user_tz": -360
    },
    "id": "038533d3",
    "papermill": {
     "duration": 12.16378,
     "end_time": "2025-08-28T13:35:38.399136",
     "exception": false,
     "start_time": "2025-08-28T13:35:26.235356",
     "status": "completed"
    },
    "tags": []
   },
   "outputs": [],
   "source": [
    "# <<< CHANGED: consolidated imports and added compatibility helpers\n",
    "import os\n",
    "import time\n",
    "import random\n",
    "import platform\n",
    "import psutil\n",
    "import glob\n",
    "from collections import OrderedDict, Counter\n",
    "\n",
    "import numpy as np\n",
    "import pandas as pd\n",
    "import matplotlib.pyplot as plt\n",
    "import seaborn as sns\n",
    "from tabulate import tabulate\n",
    "from PIL import Image, ImageOps\n",
    "\n",
    "import torch\n",
    "import torch.nn as nn\n",
    "import torch.nn.functional as F\n",
    "import torch.optim as optim\n",
    "from torch.utils.data import Dataset, DataLoader, WeightedRandomSampler\n",
    "from torchvision import transforms\n",
    "from torchinfo import summary\n",
    "from tqdm.auto import tqdm\n",
    "from sklearn.model_selection import train_test_split\n",
    "from sklearn.metrics import classification_report, accuracy_score, confusion_matrix"
   ]
  },
  {
   "cell_type": "code",
   "execution_count": 3,
   "id": "8ee0c054",
   "metadata": {
    "execution": {
     "iopub.execute_input": "2025-08-28T13:35:38.410250Z",
     "iopub.status.busy": "2025-08-28T13:35:38.409910Z",
     "iopub.status.idle": "2025-08-28T13:35:38.473072Z",
     "shell.execute_reply": "2025-08-28T13:35:38.472196Z"
    },
    "papermill": {
     "duration": 0.06977,
     "end_time": "2025-08-28T13:35:38.474241",
     "exception": false,
     "start_time": "2025-08-28T13:35:38.404471",
     "status": "completed"
    },
    "tags": []
   },
   "outputs": [
    {
     "name": "stdout",
     "output_type": "stream",
     "text": [
      "Using device: cuda\n"
     ]
    }
   ],
   "source": [
    "# <<< UNCHANGED\n",
    "device = torch.device('cuda' if torch.cuda.is_available() else 'cpu')\n",
    "print(\"Using device:\", device)"
   ]
  },
  {
   "cell_type": "markdown",
   "id": "7faf4e98",
   "metadata": {
    "id": "4xJhbrSK0gQ9",
    "papermill": {
     "duration": 0.005675,
     "end_time": "2025-08-28T13:35:38.485293",
     "exception": false,
     "start_time": "2025-08-28T13:35:38.479618",
     "status": "completed"
    },
    "tags": []
   },
   "source": [
    "### Configuration"
   ]
  },
  {
   "cell_type": "code",
   "execution_count": 4,
   "id": "6f4b22c8",
   "metadata": {
    "execution": {
     "iopub.execute_input": "2025-08-28T13:35:38.496360Z",
     "iopub.status.busy": "2025-08-28T13:35:38.496079Z",
     "iopub.status.idle": "2025-08-28T13:35:38.501761Z",
     "shell.execute_reply": "2025-08-28T13:35:38.500982Z"
    },
    "executionInfo": {
     "elapsed": 610,
     "status": "ok",
     "timestamp": 1716718956202,
     "user": {
      "displayName": "Beautiful Mind",
      "userId": "18088270031962857328"
     },
     "user_tz": -360
    },
    "id": "cwym0M9m0i0B",
    "outputId": "45b0306c-9ba1-476a-dfc1-9738c84c2442",
    "papermill": {
     "duration": 0.012627,
     "end_time": "2025-08-28T13:35:38.502905",
     "exception": false,
     "start_time": "2025-08-28T13:35:38.490278",
     "status": "completed"
    },
    "tags": []
   },
   "outputs": [
    {
     "name": "stdout",
     "output_type": "stream",
     "text": [
      "CPU: x86_64\n",
      "Total RAM (GB): 31.35\n",
      "DATA_ROOT exists: True\n"
     ]
    }
   ],
   "source": [
    "# <<< CHANGED: set DATA_ROOT to your dataset folder under /kaggle/input\n",
    "cpu_info = platform.processor()\n",
    "ram_info = psutil.virtual_memory()\n",
    "total_ram_gb = ram_info.total / (1024 ** 3)\n",
    "\n",
    "# UPDATE this to the actual dataset folder you see in /kaggle/input\n",
    "DATA_ROOT = \"/kaggle/input/augmented\"   # <<< CHANGE this if needed\n",
    "\n",
    "print(\"CPU:\", cpu_info)\n",
    "print(\"Total RAM (GB):\", round(total_ram_gb, 2))\n",
    "print(\"DATA_ROOT exists:\", os.path.exists(DATA_ROOT))"
   ]
  },
  {
   "cell_type": "markdown",
   "id": "3e13263b",
   "metadata": {
    "id": "CRgBEPljUhNn",
    "papermill": {
     "duration": 0.004935,
     "end_time": "2025-08-28T13:35:38.512954",
     "exception": false,
     "start_time": "2025-08-28T13:35:38.508019",
     "status": "completed"
    },
    "tags": []
   },
   "source": [
    "### Seed Value"
   ]
  },
  {
   "cell_type": "code",
   "execution_count": 5,
   "id": "271e8fc4",
   "metadata": {
    "execution": {
     "iopub.execute_input": "2025-08-28T13:35:38.524317Z",
     "iopub.status.busy": "2025-08-28T13:35:38.523652Z",
     "iopub.status.idle": "2025-08-28T13:35:38.533386Z",
     "shell.execute_reply": "2025-08-28T13:35:38.532851Z"
    },
    "executionInfo": {
     "elapsed": 2,
     "status": "ok",
     "timestamp": 1716718956202,
     "user": {
      "displayName": "Beautiful Mind",
      "userId": "18088270031962857328"
     },
     "user_tz": -360
    },
    "id": "3tE_XYp4UgnV",
    "papermill": {
     "duration": 0.016532,
     "end_time": "2025-08-28T13:35:38.534446",
     "exception": false,
     "start_time": "2025-08-28T13:35:38.517914",
     "status": "completed"
    },
    "tags": []
   },
   "outputs": [],
   "source": [
    "# <<< UNCHANGED (but add deterministic settings)\n",
    "seed = 42\n",
    "torch.manual_seed(seed)\n",
    "torch.cuda.manual_seed_all(seed)\n",
    "np.random.seed(seed)\n",
    "random.seed(seed)\n",
    "torch.backends.cudnn.deterministic = True\n",
    "torch.backends.cudnn.benchmark = False"
   ]
  },
  {
   "cell_type": "markdown",
   "id": "45b0ac17",
   "metadata": {
    "id": "cf72bea6",
    "papermill": {
     "duration": 0.005138,
     "end_time": "2025-08-28T13:35:38.544837",
     "exception": false,
     "start_time": "2025-08-28T13:35:38.539699",
     "status": "completed"
    },
    "tags": []
   },
   "source": [
    "### Loading Dataset"
   ]
  },
  {
   "cell_type": "code",
   "execution_count": 6,
   "id": "f93243d1",
   "metadata": {
    "execution": {
     "iopub.execute_input": "2025-08-28T13:35:38.556338Z",
     "iopub.status.busy": "2025-08-28T13:35:38.555559Z",
     "iopub.status.idle": "2025-08-28T13:35:43.618687Z",
     "shell.execute_reply": "2025-08-28T13:35:43.617913Z"
    },
    "executionInfo": {
     "elapsed": 4216,
     "status": "ok",
     "timestamp": 1716718960416,
     "user": {
      "displayName": "Beautiful Mind",
      "userId": "18088270031962857328"
     },
     "user_tz": -360
    },
    "id": "d4079ea7",
    "papermill": {
     "duration": 5.070463,
     "end_time": "2025-08-28T13:35:43.620261",
     "exception": false,
     "start_time": "2025-08-28T13:35:38.549798",
     "status": "completed"
    },
    "tags": []
   },
   "outputs": [],
   "source": [
    "DATA_ROOT = \"/kaggle/input/augmented\"\n",
    "# <<< CHANGED: dynamic discovery of class folders and files\n",
    "file_paths = []\n",
    "labels = []\n",
    "\n",
    "for class_name in sorted(os.listdir(DATA_ROOT)):\n",
    "    class_dir = os.path.join(DATA_ROOT, class_name)\n",
    "    if not os.path.isdir(class_dir):\n",
    "        continue\n",
    "    for image_name in os.listdir(class_dir):\n",
    "        fp = os.path.join(class_dir, image_name)\n",
    "        if os.path.isfile(fp):\n",
    "            file_paths.append(fp)\n",
    "            labels.append(class_name)\n",
    "\n",
    "df = pd.DataFrame({\"file_path\": file_paths, \"label\": labels})\n",
    "df = df.sample(frac=1, random_state=42).reset_index(drop=True)"
   ]
  },
  {
   "cell_type": "code",
   "execution_count": 7,
   "id": "8c418e30",
   "metadata": {
    "execution": {
     "iopub.execute_input": "2025-08-28T13:35:43.632172Z",
     "iopub.status.busy": "2025-08-28T13:35:43.631917Z",
     "iopub.status.idle": "2025-08-28T13:35:44.159431Z",
     "shell.execute_reply": "2025-08-28T13:35:44.158742Z"
    },
    "executionInfo": {
     "elapsed": 1507,
     "status": "ok",
     "timestamp": 1716718961901,
     "user": {
      "displayName": "Beautiful Mind",
      "userId": "18088270031962857328"
     },
     "user_tz": -360
    },
    "id": "ee7d9da9",
    "outputId": "319581e7-6951-426a-a24e-02f80e4dfc60",
    "papermill": {
     "duration": 0.535867,
     "end_time": "2025-08-28T13:35:44.161474",
     "exception": false,
     "start_time": "2025-08-28T13:35:43.625607",
     "status": "completed"
    },
    "tags": []
   },
   "outputs": [
    {
     "name": "stdout",
     "output_type": "stream",
     "text": [
      "Class: _NORMAL T1, Count: 369\n",
      "Class: Granuloma T1, Count: 369\n",
      "Class: Meningioma T1, Count: 369\n",
      "Class: Carcinoma T1, Count: 369\n",
      "Class: Astrocitoma T1C+, Count: 369\n",
      "Class: Meningioma T2, Count: 369\n",
      "Class: Tuberculoma T1C+, Count: 369\n",
      "Class: Neurocitoma T1C+, Count: 369\n",
      "Class: Schwannoma T2, Count: 369\n",
      "Class: Neurocitoma T2, Count: 369\n",
      "Class: Tuberculoma T2, Count: 369\n",
      "Class: Meduloblastoma T1, Count: 369\n",
      "Class: Ganglioglioma T2, Count: 369\n",
      "Class: Schwannoma T1, Count: 369\n",
      "Class: Germinoma T2, Count: 369\n",
      "Class: Oligodendroglioma T2, Count: 369\n",
      "Class: Ependimoma T1C+, Count: 369\n",
      "Class: Schwannoma T1C+, Count: 369\n",
      "Class: Meduloblastoma T2, Count: 369\n",
      "Class: Germinoma T1C+, Count: 369\n",
      "Class: Ependimoma T1, Count: 369\n",
      "Class: Ganglioglioma T1C+, Count: 369\n",
      "Class: Oligodendroglioma T1C+, Count: 369\n",
      "Class: Ependimoma T2, Count: 369\n",
      "Class: Carcinoma T1C+, Count: 369\n",
      "Class: Meningioma T1C+, Count: 369\n",
      "Class: _NORMAL T2, Count: 369\n",
      "Class: Meduloblastoma T1C+, Count: 369\n",
      "Class: Tuberculoma T1, Count: 369\n",
      "Class: Neurocitoma T1, Count: 369\n",
      "Class: Astrocitoma T2, Count: 369\n",
      "Class: Astrocitoma T1, Count: 369\n",
      "Class: Germinoma T1, Count: 369\n",
      "Class: Glioblastoma T1, Count: 369\n",
      "Class: Oligodendroglioma T1, Count: 369\n",
      "Class: Papiloma T2, Count: 369\n",
      "Class: Glioblastoma T1C+, Count: 369\n",
      "Class: Papiloma T1C+, Count: 369\n",
      "Class: Granuloma T2, Count: 369\n",
      "Class: Granuloma T1C+, Count: 369\n",
      "Class: Carcinoma T2, Count: 369\n",
      "Class: Ganglioglioma T1, Count: 369\n",
      "Class: Papiloma T1, Count: 369\n",
      "Class: Glioblastoma T2, Count: 369\n"
     ]
    },
    {
     "data": {
      "image/png": "[encoded data removed]",
      "text/plain": [
       "<Figure size 1200x500 with 1 Axes>"
      ]
     },
     "metadata": {},
     "output_type": "display_data"
    }
   ],
   "source": [
    "class_counts_all = df['label'].value_counts()\n",
    "for class_name, count in class_counts_all.items():\n",
    "    print(f\"Class: {class_name}, Count: {count}\")\n",
    "\n",
    "plt.figure(figsize=(12,5))\n",
    "ax = class_counts_all.plot(kind='bar')\n",
    "plt.xlabel('Classes')\n",
    "plt.ylabel('Amount of data')\n",
    "plt.xticks(rotation=90)\n",
    "plt.tight_layout()\n",
    "plt.show()"
   ]
  },
  {
   "cell_type": "code",
   "execution_count": 8,
   "id": "658a73a0",
   "metadata": {
    "execution": {
     "iopub.execute_input": "2025-08-28T13:35:44.175239Z",
     "iopub.status.busy": "2025-08-28T13:35:44.174991Z",
     "iopub.status.idle": "2025-08-28T13:35:44.354941Z",
     "shell.execute_reply": "2025-08-28T13:35:44.354118Z"
    },
    "executionInfo": {
     "elapsed": 885,
     "status": "ok",
     "timestamp": 1716718962779,
     "user": {
      "displayName": "Beautiful Mind",
      "userId": "18088270031962857328"
     },
     "user_tz": -360
    },
    "id": "_sf1e_3zXxmn",
    "outputId": "73d66b18-e71b-48f7-ca3b-26ab9f0f0690",
    "papermill": {
     "duration": 0.189068,
     "end_time": "2025-08-28T13:35:44.356959",
     "exception": false,
     "start_time": "2025-08-28T13:35:44.167891",
     "status": "completed"
    },
    "tags": []
   },
   "outputs": [
    {
     "data": {
      "text/plain": [
       "(-0.5, 629.5, 629.5, -0.5)"
      ]
     },
     "execution_count": 8,
     "metadata": {},
     "output_type": "execute_result"
    },
    {
     "data": {
      "image/png": "[encoded data removed]",
      "text/plain": [
       "<Figure size 640x480 with 1 Axes>"
      ]
     },
     "metadata": {},
     "output_type": "display_data"
    }
   ],
   "source": [
    "# Show a sample image (sanity)\n",
    "random_index = random.randint(0, len(df) - 1)\n",
    "random_row = df.iloc[random_index]\n",
    "image = Image.open(random_row['file_path']).convert('RGB')\n",
    "plt.imshow(image); plt.title(random_row['label']); plt.axis('off')"
   ]
  },
  {
   "cell_type": "markdown",
   "id": "4a3f7d6b",
   "metadata": {
    "id": "1c60ef68",
    "papermill": {
     "duration": 0.007601,
     "end_time": "2025-08-28T13:35:44.372291",
     "exception": false,
     "start_time": "2025-08-28T13:35:44.364690",
     "status": "completed"
    },
    "tags": []
   },
   "source": [
    "### Train-Test-Validation Split (Ratio 70:15:15)"
   ]
  },
  {
   "cell_type": "code",
   "execution_count": 9,
   "id": "08a38f02",
   "metadata": {
    "execution": {
     "iopub.execute_input": "2025-08-28T13:35:44.388144Z",
     "iopub.status.busy": "2025-08-28T13:35:44.387856Z",
     "iopub.status.idle": "2025-08-28T13:35:44.412518Z",
     "shell.execute_reply": "2025-08-28T13:35:44.411890Z"
    },
    "executionInfo": {
     "elapsed": 13,
     "status": "ok",
     "timestamp": 1716718965705,
     "user": {
      "displayName": "Beautiful Mind",
      "userId": "18088270031962857328"
     },
     "user_tz": -360
    },
    "id": "1a3b67e0",
    "papermill": {
     "duration": 0.03428,
     "end_time": "2025-08-28T13:35:44.413842",
     "exception": false,
     "start_time": "2025-08-28T13:35:44.379562",
     "status": "completed"
    },
    "tags": []
   },
   "outputs": [],
   "source": [
    "# <<< UNCHANGED (stratified 70:15:15)\n",
    "train_dataframe, temp_dataframe = train_test_split(df, test_size=0.30, stratify=df['label'], random_state=42)\n",
    "valid_dataframe, test_df = train_test_split(temp_dataframe, test_size=0.50, stratify=temp_dataframe['label'], random_state=42)"
   ]
  },
  {
   "cell_type": "code",
   "execution_count": 10,
   "id": "80ad9116",
   "metadata": {
    "execution": {
     "iopub.execute_input": "2025-08-28T13:35:44.430211Z",
     "iopub.status.busy": "2025-08-28T13:35:44.429603Z",
     "iopub.status.idle": "2025-08-28T13:35:44.434181Z",
     "shell.execute_reply": "2025-08-28T13:35:44.433359Z"
    },
    "executionInfo": {
     "elapsed": 7,
     "status": "ok",
     "timestamp": 1716718965706,
     "user": {
      "displayName": "Beautiful Mind",
      "userId": "18088270031962857328"
     },
     "user_tz": -360
    },
    "id": "77693087",
    "outputId": "c8ce0285-6b8a-4028-ae1b-a967bb097ca5",
    "papermill": {
     "duration": 0.013894,
     "end_time": "2025-08-28T13:35:44.435365",
     "exception": false,
     "start_time": "2025-08-28T13:35:44.421471",
     "status": "completed"
    },
    "tags": []
   },
   "outputs": [
    {
     "name": "stdout",
     "output_type": "stream",
     "text": [
      "Training Data:  11365\n",
      "Validation Data:  2435\n",
      "Test Data:  2436\n",
      "-------------------------------------------\n",
      "Total amounts of data in the dataset:  16236\n"
     ]
    }
   ],
   "source": [
    "print(\"Training Data: \", len(train_dataframe))\n",
    "print(\"Validation Data: \", len(valid_dataframe))\n",
    "print(\"Test Data: \", len(test_df))\n",
    "print(\"-------------------------------------------\")\n",
    "print(\"Total amounts of data in the dataset: \", len(df))"
   ]
  },
  {
   "cell_type": "code",
   "execution_count": 11,
   "id": "b1c67d1e",
   "metadata": {
    "execution": {
     "iopub.execute_input": "2025-08-28T13:35:44.451989Z",
     "iopub.status.busy": "2025-08-28T13:35:44.451340Z",
     "iopub.status.idle": "2025-08-28T13:35:44.466186Z",
     "shell.execute_reply": "2025-08-28T13:35:44.464960Z"
    },
    "executionInfo": {
     "elapsed": 6,
     "status": "ok",
     "timestamp": 1716718965706,
     "user": {
      "displayName": "Beautiful Mind",
      "userId": "18088270031962857328"
     },
     "user_tz": -360
    },
    "id": "606a0646",
    "outputId": "06240078-a839-4907-cf7d-d40121fa28c1",
    "papermill": {
     "duration": 0.024617,
     "end_time": "2025-08-28T13:35:44.467472",
     "exception": false,
     "start_time": "2025-08-28T13:35:44.442855",
     "status": "completed"
    },
    "tags": []
   },
   "outputs": [
    {
     "name": "stdout",
     "output_type": "stream",
     "text": [
      "\n",
      "Train dataset class counts:\n",
      "label\n",
      "Schwannoma T1C+           259\n",
      "Germinoma T1              259\n",
      "Papiloma T1C+             259\n",
      "Tuberculoma T1C+          259\n",
      "Ependimoma T1             259\n",
      "Meningioma T1             259\n",
      "Meningioma T1C+           259\n",
      "Neurocitoma T1            259\n",
      "Carcinoma T1              259\n",
      "Ependimoma T2             259\n",
      "Schwannoma T1             259\n",
      "Carcinoma T1C+            259\n",
      "Oligodendroglioma T1C+    259\n",
      "Astrocitoma T2            258\n",
      "Astrocitoma T1            258\n",
      "Tuberculoma T1            258\n",
      "_NORMAL T1                258\n",
      "Meduloblastoma T2         258\n",
      "Glioblastoma T1           258\n",
      "Germinoma T2              258\n",
      "Granuloma T1              258\n",
      "Astrocitoma T1C+          258\n",
      "Oligodendroglioma T1      258\n",
      "Oligodendroglioma T2      258\n",
      "Germinoma T1C+            258\n",
      "Neurocitoma T2            258\n",
      "Glioblastoma T2           258\n",
      "Neurocitoma T1C+          258\n",
      "_NORMAL T2                258\n",
      "Granuloma T2              258\n",
      "Tuberculoma T2            258\n",
      "Ganglioglioma T1C+        258\n",
      "Carcinoma T2              258\n",
      "Meningioma T2             258\n",
      "Papiloma T2               258\n",
      "Meduloblastoma T1         258\n",
      "Granuloma T1C+            258\n",
      "Ganglioglioma T2          258\n",
      "Papiloma T1               258\n",
      "Ganglioglioma T1          258\n",
      "Meduloblastoma T1C+       258\n",
      "Ependimoma T1C+           258\n",
      "Glioblastoma T1C+         258\n",
      "Schwannoma T2             258\n",
      "Name: count, dtype: int64\n",
      "\n",
      "Valid dataset class counts:\n",
      "label\n",
      "Carcinoma T2              56\n",
      "Meningioma T2             56\n",
      "Germinoma T2              56\n",
      "Tuberculoma T2            56\n",
      "_NORMAL T2                56\n",
      "Ependimoma T1C+           56\n",
      "Granuloma T1              56\n",
      "Granuloma T1C+            56\n",
      "Granuloma T2              56\n",
      "Oligodendroglioma T1      56\n",
      "Meduloblastoma T1C+       56\n",
      "Germinoma T1C+            56\n",
      "Glioblastoma T2           56\n",
      "Ganglioglioma T1C+        56\n",
      "Tuberculoma T1            56\n",
      "Carcinoma T1C+            55\n",
      "Papiloma T1               55\n",
      "Ependimoma T1             55\n",
      "Neurocitoma T1            55\n",
      "Meningioma T1             55\n",
      "Ganglioglioma T2          55\n",
      "Schwannoma T1C+           55\n",
      "Neurocitoma T2            55\n",
      "Meduloblastoma T1         55\n",
      "Germinoma T1              55\n",
      "Astrocitoma T1C+          55\n",
      "Ganglioglioma T1          55\n",
      "Glioblastoma T1           55\n",
      "Astrocitoma T2            55\n",
      "Neurocitoma T1C+          55\n",
      "Papiloma T2               55\n",
      "Oligodendroglioma T1C+    55\n",
      "Carcinoma T1              55\n",
      "Tuberculoma T1C+          55\n",
      "_NORMAL T1                55\n",
      "Ependimoma T2             55\n",
      "Schwannoma T1             55\n",
      "Glioblastoma T1C+         55\n",
      "Oligodendroglioma T2      55\n",
      "Schwannoma T2             55\n",
      "Meduloblastoma T2         55\n",
      "Astrocitoma T1            55\n",
      "Meningioma T1C+           55\n",
      "Papiloma T1C+             55\n",
      "Name: count, dtype: int64\n",
      "\n",
      "Test dataset class counts:\n",
      "label\n",
      "Schwannoma T2             56\n",
      "Ganglioglioma T2          56\n",
      "Papiloma T2               56\n",
      "Neurocitoma T1C+          56\n",
      "Ganglioglioma T1          56\n",
      "Glioblastoma T1           56\n",
      "Astrocitoma T1C+          56\n",
      "Papiloma T1               56\n",
      "Meduloblastoma T1         56\n",
      "Astrocitoma T2            56\n",
      "Astrocitoma T1            56\n",
      "_NORMAL T1                56\n",
      "Neurocitoma T2            56\n",
      "Glioblastoma T1C+         56\n",
      "Meduloblastoma T2         56\n",
      "Oligodendroglioma T2      56\n",
      "_NORMAL T2                55\n",
      "Neurocitoma T1            55\n",
      "Germinoma T2              55\n",
      "Tuberculoma T1C+          55\n",
      "Carcinoma T2              55\n",
      "Granuloma T1C+            55\n",
      "Granuloma T2              55\n",
      "Carcinoma T1              55\n",
      "Oligodendroglioma T1      55\n",
      "Meningioma T1C+           55\n",
      "Schwannoma T1C+           55\n",
      "Meningioma T2             55\n",
      "Carcinoma T1C+            55\n",
      "Germinoma T1              55\n",
      "Ependimoma T1             55\n",
      "Ganglioglioma T1C+        55\n",
      "Oligodendroglioma T1C+    55\n",
      "Tuberculoma T1            55\n",
      "Schwannoma T1             55\n",
      "Granuloma T1              55\n",
      "Germinoma T1C+            55\n",
      "Tuberculoma T2            55\n",
      "Ependimoma T1C+           55\n",
      "Papiloma T1C+             55\n",
      "Glioblastoma T2           55\n",
      "Ependimoma T2             55\n",
      "Meduloblastoma T1C+       55\n",
      "Meningioma T1             55\n",
      "Name: count, dtype: int64\n"
     ]
    }
   ],
   "source": [
    "class_counts_train = train_dataframe['label'].value_counts()\n",
    "class_counts_valid = valid_dataframe['label'].value_counts()\n",
    "class_counts_test  = test_df['label'].value_counts()\n",
    "\n",
    "train_table_data = [[class_name, count] for class_name, count in class_counts_train.items()]\n",
    "valid_table_data = [[class_name, count] for class_name, count in class_counts_valid.items()]\n",
    "test_table_data  = [[class_name, count] for class_name, count in class_counts_test.items()]\n",
    "\n",
    "print(\"\\nTrain dataset class counts:\")\n",
    "print(train_dataframe['label'].value_counts())\n",
    "print(\"\\nValid dataset class counts:\")\n",
    "print(valid_dataframe['label'].value_counts())\n",
    "print(\"\\nTest dataset class counts:\")\n",
    "print(test_df['label'].value_counts())"
   ]
  },
  {
   "cell_type": "markdown",
   "id": "7d37b3c6",
   "metadata": {
    "id": "65dbd001",
    "papermill": {
     "duration": 0.007102,
     "end_time": "2025-08-28T13:35:44.482057",
     "exception": false,
     "start_time": "2025-08-28T13:35:44.474955",
     "status": "completed"
    },
    "tags": []
   },
   "source": [
    "### Checkpoint"
   ]
  },
  {
   "cell_type": "code",
   "execution_count": 12,
   "id": "f6c00120",
   "metadata": {
    "execution": {
     "iopub.execute_input": "2025-08-28T13:35:44.497658Z",
     "iopub.status.busy": "2025-08-28T13:35:44.497013Z",
     "iopub.status.idle": "2025-08-28T13:35:44.500833Z",
     "shell.execute_reply": "2025-08-28T13:35:44.500071Z"
    },
    "executionInfo": {
     "elapsed": 583,
     "status": "ok",
     "timestamp": 1716718966285,
     "user": {
      "displayName": "Beautiful Mind",
      "userId": "18088270031962857328"
     },
     "user_tz": -360
    },
    "id": "fa09cea1",
    "papermill": {
     "duration": 0.01285,
     "end_time": "2025-08-28T13:35:44.501978",
     "exception": false,
     "start_time": "2025-08-28T13:35:44.489128",
     "status": "completed"
    },
    "tags": []
   },
   "outputs": [],
   "source": [
    "save_path_checkpoints = \"/kaggle/working/\"\n",
    "os.makedirs(save_path_checkpoints, exist_ok=True)"
   ]
  },
  {
   "cell_type": "markdown",
   "id": "2286ed5b",
   "metadata": {
    "id": "2473bec6",
    "papermill": {
     "duration": 0.007112,
     "end_time": "2025-08-28T13:35:44.516493",
     "exception": false,
     "start_time": "2025-08-28T13:35:44.509381",
     "status": "completed"
    },
    "tags": []
   },
   "source": [
    "### Dataset Class, Dataloader and Transform"
   ]
  },
  {
   "cell_type": "code",
   "execution_count": 13,
   "id": "27cd9ba6",
   "metadata": {
    "execution": {
     "iopub.execute_input": "2025-08-28T13:35:44.532455Z",
     "iopub.status.busy": "2025-08-28T13:35:44.531772Z",
     "iopub.status.idle": "2025-08-28T13:35:44.541533Z",
     "shell.execute_reply": "2025-08-28T13:35:44.540774Z"
    },
    "executionInfo": {
     "elapsed": 4,
     "status": "ok",
     "timestamp": 1716718966285,
     "user": {
      "displayName": "Beautiful Mind",
      "userId": "18088270031962857328"
     },
     "user_tz": -360
    },
    "id": "74560017",
    "papermill": {
     "duration": 0.018942,
     "end_time": "2025-08-28T13:35:44.542710",
     "exception": false,
     "start_time": "2025-08-28T13:35:44.523768",
     "status": "completed"
    },
    "tags": []
   },
   "outputs": [
    {
     "name": "stdout",
     "output_type": "stream",
     "text": [
      "Detected number of classes: 44\n"
     ]
    }
   ],
   "source": [
    "# <<< CHANGED: dynamic label mapping, safer transforms, WeightedRandomSampler, Kaggle-safe loaders\n",
    "\n",
    "# Label mapping from train split (ensures consistent mapping)\n",
    "classes = sorted(train_dataframe['label'].unique().tolist())\n",
    "label_to_idx = {c: i for i, c in enumerate(classes)}\n",
    "idx_to_label = {i: c for c, i in label_to_idx.items()}\n",
    "num_classes = len(classes)\n",
    "print(\"Detected number of classes:\", num_classes)\n",
    "\n",
    "# Transforms\n",
    "train_transform = transforms.Compose([\n",
    "    transforms.RandomResizedCrop(224, scale=(0.9, 1.0)),\n",
    "    transforms.RandomHorizontalFlip(p=0.5),\n",
    "    transforms.RandomRotation(degrees=10),\n",
    "    transforms.ColorJitter(brightness=0.12, contrast=0.12, saturation=0.08),\n",
    "    transforms.ToTensor(),\n",
    "    transforms.Normalize(mean=[0.5,0.5,0.5], std=[0.5,0.5,0.5]),\n",
    "])\n",
    "\n",
    "eval_transform = transforms.Compose([\n",
    "    transforms.Resize((224,224)),\n",
    "    transforms.ToTensor(),\n",
    "    transforms.Normalize(mean=[0.5,0.5,0.5], std=[0.5,0.5,0.5]),\n",
    "])\n",
    "\n",
    "class ImageDataset(Dataset):\n",
    "    def __init__(self, dataframe, transform, label_to_idx):\n",
    "        self.dataframe = dataframe.reset_index(drop=True)\n",
    "        self.transform = transform\n",
    "        self.label_to_idx = label_to_idx\n",
    "    def __len__(self):\n",
    "        return len(self.dataframe)\n",
    "    def __getitem__(self, index):\n",
    "        row = self.dataframe.iloc[index]\n",
    "        img = Image.open(row['file_path']).convert('RGB')   # force RGB\n",
    "        img = self.transform(img)\n",
    "        label = self.label_to_idx[row['label']]\n",
    "        return img, label"
   ]
  },
  {
   "cell_type": "code",
   "execution_count": 14,
   "id": "34dcfde9",
   "metadata": {
    "execution": {
     "iopub.execute_input": "2025-08-28T13:35:44.558486Z",
     "iopub.status.busy": "2025-08-28T13:35:44.558237Z",
     "iopub.status.idle": "2025-08-28T13:35:44.574343Z",
     "shell.execute_reply": "2025-08-28T13:35:44.573570Z"
    },
    "executionInfo": {
     "elapsed": 4,
     "status": "ok",
     "timestamp": 1716718966286,
     "user": {
      "displayName": "Beautiful Mind",
      "userId": "18088270031962857328"
     },
     "user_tz": -360
    },
    "id": "e72ed5a1",
    "papermill": {
     "duration": 0.025197,
     "end_time": "2025-08-28T13:35:44.575417",
     "exception": false,
     "start_time": "2025-08-28T13:35:44.550220",
     "status": "completed"
    },
    "tags": []
   },
   "outputs": [
    {
     "name": "stdout",
     "output_type": "stream",
     "text": [
      "Dataloaders ready. Train batches: 711\n"
     ]
    }
   ],
   "source": [
    "\n",
    "# Dataloader parameters\n",
    "train_batch = 16   # safe default; reduce to 8 if OOM\n",
    "val_batch = 16\n",
    "num_workers = 0    # Kaggle-safe\n",
    "\n",
    "def make_loaders():\n",
    "    train_ds = ImageDataset(train_dataframe, train_transform, label_to_idx)\n",
    "    valid_ds = ImageDataset(valid_dataframe, eval_transform, label_to_idx)\n",
    "    test_ds  = ImageDataset(test_df, eval_transform, label_to_idx)\n",
    "\n",
    "    # compute class sample weights (inverse frequency)\n",
    "    train_counts = train_dataframe['label'].value_counts().to_dict()\n",
    "    class_sample_count = np.array([train_counts.get(c, 0) for c in classes], dtype=np.float32)\n",
    "    class_sample_count[class_sample_count == 0] = 1.0\n",
    "    weights_per_class = 1.0 / class_sample_count\n",
    "\n",
    "    labels_train_idx = train_dataframe['label'].map(label_to_idx).values\n",
    "    sample_weights = torch.DoubleTensor([weights_per_class[l] for l in labels_train_idx])\n",
    "\n",
    "    sampler = WeightedRandomSampler(weights=sample_weights, num_samples=len(sample_weights), replacement=True)\n",
    "\n",
    "    train_loader = DataLoader(train_ds, batch_size=train_batch, sampler=sampler, num_workers=num_workers, pin_memory=True)\n",
    "    valid_loader = DataLoader(valid_ds, batch_size=val_batch, shuffle=False, num_workers=num_workers, pin_memory=True)\n",
    "    test_loader  = DataLoader(test_ds,  batch_size=val_batch, shuffle=False, num_workers=num_workers, pin_memory=True)\n",
    "\n",
    "    class_weights = torch.FloatTensor(weights_per_class / weights_per_class.mean())  # normalized weights for criterion\n",
    "    return train_loader, valid_loader, test_loader, class_weights\n",
    "\n",
    "dataloader_train_dataset, dataloader_valid_dataset, dataloader_test_dataset, class_weights = make_loaders()\n",
    "print(\"Dataloaders ready. Train batches:\", len(dataloader_train_dataset))"
   ]
  },
  {
   "cell_type": "markdown",
   "id": "2151248e",
   "metadata": {
    "id": "21be3d22",
    "papermill": {
     "duration": 0.007444,
     "end_time": "2025-08-28T13:35:44.590421",
     "exception": false,
     "start_time": "2025-08-28T13:35:44.582977",
     "status": "completed"
    },
    "tags": []
   },
   "source": [
    "### Convolutional Neural Network"
   ]
  },
  {
   "cell_type": "code",
   "execution_count": 15,
   "id": "9cba1dee",
   "metadata": {
    "execution": {
     "iopub.execute_input": "2025-08-28T13:35:44.607514Z",
     "iopub.status.busy": "2025-08-28T13:35:44.606549Z",
     "iopub.status.idle": "2025-08-28T13:35:44.617543Z",
     "shell.execute_reply": "2025-08-28T13:35:44.616979Z"
    },
    "papermill": {
     "duration": 0.02091,
     "end_time": "2025-08-28T13:35:44.618672",
     "exception": false,
     "start_time": "2025-08-28T13:35:44.597762",
     "status": "completed"
    },
    "tags": []
   },
   "outputs": [],
   "source": [
    "import torch\n",
    "import torch.nn as nn\n",
    "import torch.optim as optim\n",
    "\n",
    "# -----------------------------\n",
    "# Define Conv Block\n",
    "# -----------------------------\n",
    "class ConvBlock(nn.Module):\n",
    "    def __init__(self, in_ch, out_ch, kernel=3, stride=1, padding=1):\n",
    "        super().__init__()\n",
    "        self.conv = nn.Conv2d(in_ch, out_ch, kernel, stride, padding, bias=False)\n",
    "        self.bn = nn.BatchNorm2d(out_ch)\n",
    "        self.act = nn.ReLU(inplace=True)\n",
    "\n",
    "    def forward(self, x):\n",
    "        return self.act(self.bn(self.conv(x)))\n",
    "\n",
    "\n",
    "# -----------------------------\n",
    "# Residual Block\n",
    "# -----------------------------\n",
    "class ResidualSimple(nn.Module):\n",
    "    def __init__(self, ch):\n",
    "        super().__init__()\n",
    "        self.block = nn.Sequential(\n",
    "            ConvBlock(ch, ch, kernel=1, padding=0),\n",
    "            ConvBlock(ch, ch, kernel=3, padding=1)\n",
    "        )\n",
    "\n",
    "    def forward(self, x):\n",
    "        return x + self.block(x)\n",
    "\n",
    "\n",
    "# -----------------------------\n",
    "# Better Simple CNN\n",
    "# -----------------------------\n",
    "class BetterSimpleCNN(nn.Module):\n",
    "    def __init__(self, num_classes):\n",
    "        super().__init__()\n",
    "\n",
    "        # Stem (input -> 32 channels)\n",
    "        self.stem = nn.Sequential(\n",
    "            ConvBlock(3, 32),\n",
    "            ConvBlock(32, 32),\n",
    "            nn.MaxPool2d(2)  # Output: 112x112\n",
    "        )\n",
    "\n",
    "        # Layer 1 (32 -> 64)\n",
    "        self.layer1 = nn.Sequential(\n",
    "            ConvBlock(32, 64),\n",
    "            ConvBlock(64, 64),\n",
    "            nn.MaxPool2d(2),  # Output: 56x56\n",
    "            ResidualSimple(64)\n",
    "        )\n",
    "\n",
    "        # Layer 2 (64 -> 128)\n",
    "        self.layer2 = nn.Sequential(\n",
    "            ConvBlock(64, 128),\n",
    "            ConvBlock(128, 128),\n",
    "            nn.MaxPool2d(2),  # Output: 28x28\n",
    "            ResidualSimple(128)\n",
    "        )\n",
    "\n",
    "        # Layer 3 (128 -> 256)\n",
    "        self.layer3 = nn.Sequential(\n",
    "            ConvBlock(128, 256),\n",
    "            ConvBlock(256, 256),\n",
    "            nn.MaxPool2d(2),  # Output: 14x14\n",
    "            ResidualSimple(256)\n",
    "        )\n",
    "\n",
    "        # Global pooling + dropout + fc\n",
    "        self.global_pool = nn.AdaptiveAvgPool2d(1)\n",
    "        self.dropout = nn.Dropout(0.4)\n",
    "        self.fc = nn.Linear(256, num_classes)\n",
    "\n",
    "        # Init weights\n",
    "        for m in self.modules():\n",
    "            if isinstance(m, nn.Conv2d):\n",
    "                nn.init.kaiming_normal_(m.weight, nonlinearity=\"relu\")\n",
    "            elif isinstance(m, nn.BatchNorm2d):\n",
    "                nn.init.ones_(m.weight)\n",
    "                nn.init.zeros_(m.bias)\n",
    "            elif isinstance(m, nn.Linear):\n",
    "                nn.init.normal_(m.weight, 0, 0.01)\n",
    "                nn.init.zeros_(m.bias)\n",
    "\n",
    "    def forward(self, x):\n",
    "        x = self.stem(x)\n",
    "        x = self.layer1(x)\n",
    "        x = self.layer2(x)\n",
    "        x = self.layer3(x)\n",
    "        x = self.global_pool(x).view(x.size(0), -1)\n",
    "        x = self.dropout(x)\n",
    "        x = self.fc(x)\n",
    "        return x"
   ]
  },
  {
   "cell_type": "code",
   "execution_count": 16,
   "id": "2332fe50",
   "metadata": {
    "execution": {
     "iopub.execute_input": "2025-08-28T13:35:44.635982Z",
     "iopub.status.busy": "2025-08-28T13:35:44.635671Z",
     "iopub.status.idle": "2025-08-28T13:35:44.842824Z",
     "shell.execute_reply": "2025-08-28T13:35:44.842179Z"
    },
    "papermill": {
     "duration": 0.217698,
     "end_time": "2025-08-28T13:35:44.844333",
     "exception": false,
     "start_time": "2025-08-28T13:35:44.626635",
     "status": "completed"
    },
    "tags": []
   },
   "outputs": [],
   "source": [
    "# -----------------------------\n",
    "# Instantiate Model\n",
    "# -----------------------------\n",
    "total_class = num_classes\n",
    "model = BetterSimpleCNN(num_classes=total_class).to(device)\n",
    "\n",
    "# Weighted cross-entropy with label smoothing\n",
    "class_weights_tensor = class_weights.to(device)\n",
    "criterion = nn.CrossEntropyLoss(\n",
    "    weight=class_weights_tensor,\n",
    "    label_smoothing=0.1\n",
    ").to(device)\n",
    "\n",
    "# AdamW optimizer\n",
    "optimizer = optim.AdamW(model.parameters(), lr=3e-4, weight_decay=1e-4)\n",
    "\n",
    "# CosineAnnealingWarmRestarts scheduler\n",
    "scheduler = optim.lr_scheduler.CosineAnnealingWarmRestarts(\n",
    "    optimizer, T_0=5, T_mult=2\n",
    ")\n",
    "\n",
    "# Optional: check model summary\n",
    "# from torchsummary import summary\n",
    "# summary(model, input_size=(train_batch, 3, 224, 224))"
   ]
  },
  {
   "cell_type": "markdown",
   "id": "837677aa",
   "metadata": {
    "id": "a24a8be1",
    "papermill": {
     "duration": 0.008721,
     "end_time": "2025-08-28T13:35:44.860824",
     "exception": false,
     "start_time": "2025-08-28T13:35:44.852103",
     "status": "completed"
    },
    "tags": []
   },
   "source": [
    "### Training"
   ]
  },
  {
   "cell_type": "code",
   "execution_count": 17,
   "id": "5e1a3592",
   "metadata": {
    "execution": {
     "iopub.execute_input": "2025-08-28T13:35:44.877312Z",
     "iopub.status.busy": "2025-08-28T13:35:44.876619Z",
     "iopub.status.idle": "2025-08-28T13:35:44.882245Z",
     "shell.execute_reply": "2025-08-28T13:35:44.881658Z"
    },
    "papermill": {
     "duration": 0.015012,
     "end_time": "2025-08-28T13:35:44.883364",
     "exception": false,
     "start_time": "2025-08-28T13:35:44.868352",
     "status": "completed"
    },
    "tags": []
   },
   "outputs": [],
   "source": [
    "import torch\n",
    "from torch.cuda.amp import GradScaler\n",
    "from tqdm import tqdm\n",
    "import os\n",
    "import time\n",
    "import pandas as pd\n",
    "import inspect\n",
    "\n",
    "# -----------------------------\n",
    "# Robust autocast wrapper\n",
    "# -----------------------------\n",
    "def get_autocast_ctx():\n",
    "    try:\n",
    "        from torch.amp import autocast as autocast_mod\n",
    "    except Exception:\n",
    "        from torch.cuda.amp import autocast as autocast_mod\n",
    "    sig = inspect.signature(autocast_mod)\n",
    "    if 'device_type' in sig.parameters:\n",
    "        device_type = 'cuda' if torch.cuda.is_available() else 'cpu'\n",
    "        if 'dtype' in sig.parameters:\n",
    "            def autocast_ctx(): return autocast_mod(device_type=device_type, dtype=torch.float16)\n",
    "        else:\n",
    "            def autocast_ctx(): return autocast_mod(device_type=device_type)\n",
    "    else:\n",
    "        def autocast_ctx(): return autocast_mod()\n",
    "    return autocast_ctx\n",
    "\n",
    "autocast_ctx = get_autocast_ctx()"
   ]
  },
  {
   "cell_type": "code",
   "execution_count": 18,
   "id": "399523de",
   "metadata": {
    "execution": {
     "iopub.execute_input": "2025-08-28T13:35:44.900363Z",
     "iopub.status.busy": "2025-08-28T13:35:44.900126Z",
     "iopub.status.idle": "2025-08-28T14:57:49.881391Z",
     "shell.execute_reply": "2025-08-28T14:57:49.880563Z"
    },
    "executionInfo": {
     "elapsed": 1659736,
     "status": "ok",
     "timestamp": 1716720631970,
     "user": {
      "displayName": "Beautiful Mind",
      "userId": "18088270031962857328"
     },
     "user_tz": -360
    },
    "id": "1lynG8bMd4dr",
    "outputId": "c169f19b-5a28-44a5-8c5d-eb10a66a353e",
    "papermill": {
     "duration": 4924.991577,
     "end_time": "2025-08-28T14:57:49.882757",
     "exception": false,
     "start_time": "2025-08-28T13:35:44.891180",
     "status": "completed"
    },
    "tags": []
   },
   "outputs": [
    {
     "name": "stderr",
     "output_type": "stream",
     "text": [
      "/tmp/ipykernel_19/2629688464.py:12: FutureWarning: `torch.cuda.amp.GradScaler(args...)` is deprecated. Please use `torch.amp.GradScaler('cuda', args...)` instead.\n",
      "  scaler_local = GradScaler()\n"
     ]
    },
    {
     "name": "stdout",
     "output_type": "stream",
     "text": [
      "========================================================================\n",
      "Epoch 1/30\n"
     ]
    },
    {
     "name": "stderr",
     "output_type": "stream",
     "text": [
      "                                                                                        \r"
     ]
    },
    {
     "name": "stdout",
     "output_type": "stream",
     "text": [
      "Epoch 1 done in 207.1s | Train Loss 3.4670 Acc 0.1028 | Val Loss 3.1400 Acc 0.1713\n",
      "  Best model saved at epoch 1 (val_acc=0.1713)\n",
      "========================================================================\n",
      "Epoch 2/30\n"
     ]
    },
    {
     "name": "stderr",
     "output_type": "stream",
     "text": [
      "                                                                                        \r"
     ]
    },
    {
     "name": "stdout",
     "output_type": "stream",
     "text": [
      "Epoch 2 done in 175.4s | Train Loss 3.0043 Acc 0.2245 | Val Loss 2.7457 Acc 0.3101\n",
      "  Best model saved at epoch 2 (val_acc=0.3101)\n",
      "========================================================================\n",
      "Epoch 3/30\n"
     ]
    },
    {
     "name": "stderr",
     "output_type": "stream",
     "text": [
      "                                                                                        \r"
     ]
    },
    {
     "name": "stdout",
     "output_type": "stream",
     "text": [
      "Epoch 3 done in 165.9s | Train Loss 2.7058 Acc 0.3156 | Val Loss 2.4874 Acc 0.3918\n",
      "  Best model saved at epoch 3 (val_acc=0.3918)\n",
      "========================================================================\n",
      "Epoch 4/30\n"
     ]
    },
    {
     "name": "stderr",
     "output_type": "stream",
     "text": [
      "                                                                                        \r"
     ]
    },
    {
     "name": "stdout",
     "output_type": "stream",
     "text": [
      "Epoch 4 done in 164.7s | Train Loss 2.5401 Acc 0.3845 | Val Loss 2.3409 Acc 0.4702\n",
      "  Best model saved at epoch 4 (val_acc=0.4702)\n",
      "========================================================================\n",
      "Epoch 5/30\n"
     ]
    },
    {
     "name": "stderr",
     "output_type": "stream",
     "text": [
      "                                                                                        \r"
     ]
    },
    {
     "name": "stdout",
     "output_type": "stream",
     "text": [
      "Epoch 5 done in 162.1s | Train Loss 2.5483 Acc 0.3623 | Val Loss 2.5686 Acc 0.3585\n",
      "========================================================================\n",
      "Epoch 6/30\n"
     ]
    },
    {
     "name": "stderr",
     "output_type": "stream",
     "text": [
      "                                                                                        \r"
     ]
    },
    {
     "name": "stdout",
     "output_type": "stream",
     "text": [
      "Epoch 6 done in 161.9s | Train Loss 2.3374 Acc 0.4453 | Val Loss 2.2955 Acc 0.4407\n",
      "========================================================================\n",
      "Epoch 7/30\n"
     ]
    },
    {
     "name": "stderr",
     "output_type": "stream",
     "text": [
      "                                                                                        \r"
     ]
    },
    {
     "name": "stdout",
     "output_type": "stream",
     "text": [
      "Epoch 7 done in 161.5s | Train Loss 2.1680 Acc 0.5083 | Val Loss 2.0426 Acc 0.5877\n",
      "  Best model saved at epoch 7 (val_acc=0.5877)\n",
      "========================================================================\n",
      "Epoch 8/30\n"
     ]
    },
    {
     "name": "stderr",
     "output_type": "stream",
     "text": [
      "                                                                                        \r"
     ]
    },
    {
     "name": "stdout",
     "output_type": "stream",
     "text": [
      "Epoch 8 done in 163.9s | Train Loss 2.0092 Acc 0.5725 | Val Loss 1.8511 Acc 0.6333\n",
      "  Best model saved at epoch 8 (val_acc=0.6333)\n",
      "========================================================================\n",
      "Epoch 9/30\n"
     ]
    },
    {
     "name": "stderr",
     "output_type": "stream",
     "text": [
      "                                                                                        \r"
     ]
    },
    {
     "name": "stdout",
     "output_type": "stream",
     "text": [
      "Epoch 9 done in 160.2s | Train Loss 1.8907 Acc 0.6202 | Val Loss 1.7508 Acc 0.6772\n",
      "  Best model saved at epoch 9 (val_acc=0.6772)\n",
      "========================================================================\n",
      "Epoch 10/30\n"
     ]
    },
    {
     "name": "stderr",
     "output_type": "stream",
     "text": [
      "                                                                                         \r"
     ]
    },
    {
     "name": "stdout",
     "output_type": "stream",
     "text": [
      "Epoch 10 done in 160.9s | Train Loss 1.7747 Acc 0.6688 | Val Loss 1.6789 Acc 0.7121\n",
      "  Best model saved at epoch 10 (val_acc=0.7121)\n",
      "========================================================================\n",
      "Epoch 11/30\n"
     ]
    },
    {
     "name": "stderr",
     "output_type": "stream",
     "text": [
      "                                                                                         \r"
     ]
    },
    {
     "name": "stdout",
     "output_type": "stream",
     "text": [
      "Epoch 11 done in 162.3s | Train Loss 1.6771 Acc 0.7097 | Val Loss 1.4903 Acc 0.7856\n",
      "  Best model saved at epoch 11 (val_acc=0.7856)\n",
      "========================================================================\n",
      "Epoch 12/30\n"
     ]
    },
    {
     "name": "stderr",
     "output_type": "stream",
     "text": [
      "                                                                                         \r"
     ]
    },
    {
     "name": "stdout",
     "output_type": "stream",
     "text": [
      "Epoch 12 done in 162.3s | Train Loss 1.6303 Acc 0.7256 | Val Loss 1.4308 Acc 0.8049\n",
      "  Best model saved at epoch 12 (val_acc=0.8049)\n",
      "========================================================================\n",
      "Epoch 13/30\n"
     ]
    },
    {
     "name": "stderr",
     "output_type": "stream",
     "text": [
      "                                                                                         \r"
     ]
    },
    {
     "name": "stdout",
     "output_type": "stream",
     "text": [
      "Epoch 13 done in 160.3s | Train Loss 1.5637 Acc 0.7589 | Val Loss 1.3932 Acc 0.8177\n",
      "  Best model saved at epoch 13 (val_acc=0.8177)\n",
      "========================================================================\n",
      "Epoch 14/30\n"
     ]
    },
    {
     "name": "stderr",
     "output_type": "stream",
     "text": [
      "                                                                                         \r"
     ]
    },
    {
     "name": "stdout",
     "output_type": "stream",
     "text": [
      "Epoch 14 done in 160.3s | Train Loss 1.5416 Acc 0.7661 | Val Loss 1.3766 Acc 0.8242\n",
      "  Best model saved at epoch 14 (val_acc=0.8242)\n",
      "========================================================================\n",
      "Epoch 15/30\n"
     ]
    },
    {
     "name": "stderr",
     "output_type": "stream",
     "text": [
      "                                                                                         \r"
     ]
    },
    {
     "name": "stdout",
     "output_type": "stream",
     "text": [
      "Epoch 15 done in 161.7s | Train Loss 1.7115 Acc 0.6862 | Val Loss 1.6436 Acc 0.7060\n",
      "========================================================================\n",
      "Epoch 16/30\n"
     ]
    },
    {
     "name": "stderr",
     "output_type": "stream",
     "text": [
      "                                                                                         \r"
     ]
    },
    {
     "name": "stdout",
     "output_type": "stream",
     "text": [
      "Epoch 16 done in 162.2s | Train Loss 1.6582 Acc 0.7121 | Val Loss 1.6218 Acc 0.7207\n",
      "========================================================================\n",
      "Epoch 17/30\n"
     ]
    },
    {
     "name": "stderr",
     "output_type": "stream",
     "text": [
      "                                                                                         \r"
     ]
    },
    {
     "name": "stdout",
     "output_type": "stream",
     "text": [
      "Epoch 17 done in 162.2s | Train Loss 1.6070 Acc 0.7263 | Val Loss 1.5477 Acc 0.7524\n",
      "========================================================================\n",
      "Epoch 18/30\n"
     ]
    },
    {
     "name": "stderr",
     "output_type": "stream",
     "text": [
      "                                                                                         \r"
     ]
    },
    {
     "name": "stdout",
     "output_type": "stream",
     "text": [
      "Epoch 18 done in 162.3s | Train Loss 1.5463 Acc 0.7571 | Val Loss 1.5113 Acc 0.7614\n",
      "========================================================================\n",
      "Epoch 19/30\n"
     ]
    },
    {
     "name": "stderr",
     "output_type": "stream",
     "text": [
      "                                                                                         \r"
     ]
    },
    {
     "name": "stdout",
     "output_type": "stream",
     "text": [
      "Epoch 19 done in 162.7s | Train Loss 1.4685 Acc 0.7862 | Val Loss 1.5263 Acc 0.7532\n",
      "========================================================================\n",
      "Epoch 20/30\n"
     ]
    },
    {
     "name": "stderr",
     "output_type": "stream",
     "text": [
      "                                                                                         \r"
     ]
    },
    {
     "name": "stdout",
     "output_type": "stream",
     "text": [
      "Epoch 20 done in 161.9s | Train Loss 1.4367 Acc 0.7956 | Val Loss 1.3854 Acc 0.8209\n",
      "========================================================================\n",
      "Epoch 21/30\n"
     ]
    },
    {
     "name": "stderr",
     "output_type": "stream",
     "text": [
      "                                                                                         \r"
     ]
    },
    {
     "name": "stdout",
     "output_type": "stream",
     "text": [
      "Epoch 21 done in 160.7s | Train Loss 1.3991 Acc 0.8128 | Val Loss 1.3207 Acc 0.8456\n",
      "  Best model saved at epoch 21 (val_acc=0.8456)\n",
      "========================================================================\n",
      "Epoch 22/30\n"
     ]
    },
    {
     "name": "stderr",
     "output_type": "stream",
     "text": [
      "                                                                                         \r"
     ]
    },
    {
     "name": "stdout",
     "output_type": "stream",
     "text": [
      "Epoch 22 done in 161.4s | Train Loss 1.3427 Acc 0.8344 | Val Loss 1.2372 Acc 0.8686\n",
      "  Best model saved at epoch 22 (val_acc=0.8686)\n",
      "========================================================================\n",
      "Epoch 23/30\n"
     ]
    },
    {
     "name": "stderr",
     "output_type": "stream",
     "text": [
      "                                                                                         \r"
     ]
    },
    {
     "name": "stdout",
     "output_type": "stream",
     "text": [
      "Epoch 23 done in 161.2s | Train Loss 1.2969 Acc 0.8554 | Val Loss 1.2164 Acc 0.8846\n",
      "  Best model saved at epoch 23 (val_acc=0.8846)\n",
      "========================================================================\n",
      "Epoch 24/30\n"
     ]
    },
    {
     "name": "stderr",
     "output_type": "stream",
     "text": [
      "                                                                                         \r"
     ]
    },
    {
     "name": "stdout",
     "output_type": "stream",
     "text": [
      "Epoch 24 done in 160.8s | Train Loss 1.2563 Acc 0.8708 | Val Loss 1.1716 Acc 0.8908\n",
      "  Best model saved at epoch 24 (val_acc=0.8908)\n",
      "========================================================================\n",
      "Epoch 25/30\n"
     ]
    },
    {
     "name": "stderr",
     "output_type": "stream",
     "text": [
      "                                                                                         \r"
     ]
    },
    {
     "name": "stdout",
     "output_type": "stream",
     "text": [
      "Epoch 25 done in 162.2s | Train Loss 1.2181 Acc 0.8868 | Val Loss 1.1381 Acc 0.9027\n",
      "  Best model saved at epoch 25 (val_acc=0.9027)\n",
      "========================================================================\n",
      "Epoch 26/30\n"
     ]
    },
    {
     "name": "stderr",
     "output_type": "stream",
     "text": [
      "                                                                                         \r"
     ]
    },
    {
     "name": "stdout",
     "output_type": "stream",
     "text": [
      "Epoch 26 done in 163.7s | Train Loss 1.1898 Acc 0.8988 | Val Loss 1.1157 Acc 0.9088\n",
      "  Best model saved at epoch 26 (val_acc=0.9088)\n",
      "========================================================================\n",
      "Epoch 27/30\n"
     ]
    },
    {
     "name": "stderr",
     "output_type": "stream",
     "text": [
      "                                                                                         \r"
     ]
    },
    {
     "name": "stdout",
     "output_type": "stream",
     "text": [
      "Epoch 27 done in 163.3s | Train Loss 1.1542 Acc 0.9101 | Val Loss 1.0622 Acc 0.9318\n",
      "  Best model saved at epoch 27 (val_acc=0.9318)\n",
      "========================================================================\n",
      "Epoch 28/30\n"
     ]
    },
    {
     "name": "stderr",
     "output_type": "stream",
     "text": [
      "                                                                                         \r"
     ]
    },
    {
     "name": "stdout",
     "output_type": "stream",
     "text": [
      "Epoch 28 done in 162.5s | Train Loss 1.1277 Acc 0.9194 | Val Loss 1.0818 Acc 0.9236\n",
      "========================================================================\n",
      "Epoch 29/30\n"
     ]
    },
    {
     "name": "stderr",
     "output_type": "stream",
     "text": [
      "                                                                                         \r"
     ]
    },
    {
     "name": "stdout",
     "output_type": "stream",
     "text": [
      "Epoch 29 done in 163.1s | Train Loss 1.0977 Acc 0.9313 | Val Loss 1.0346 Acc 0.9450\n",
      "  Best model saved at epoch 29 (val_acc=0.9450)\n",
      "========================================================================\n",
      "Epoch 30/30\n"
     ]
    },
    {
     "name": "stderr",
     "output_type": "stream",
     "text": [
      "                                                                                         \r"
     ]
    },
    {
     "name": "stdout",
     "output_type": "stream",
     "text": [
      "Epoch 30 done in 162.6s | Train Loss 1.0822 Acc 0.9395 | Val Loss 1.0246 Acc 0.9429\n",
      "Training finished. Best val acc: 0.9449691991786447 at epoch 29\n",
      "Training Time: 4924.56s (82.08 min)\n",
      "History saved to: /kaggle/working/training_data.xlsx\n"
     ]
    }
   ],
   "source": [
    "# -----------------------------\n",
    "# Training Function\n",
    "# -----------------------------\n",
    "def train_model(model, criterion, optimizer, scheduler,\n",
    "                train_loader, valid_loader,\n",
    "                num_epochs=30, early_stop_patience=7, save_path=save_path_checkpoints):\n",
    "\n",
    "    model = model.to(device)\n",
    "    os.makedirs(save_path, exist_ok=True)\n",
    "\n",
    "    best_val_acc, best_epoch = 0.0, -1\n",
    "    scaler_local = GradScaler()\n",
    "    history = {'train_loss': [], 'train_acc': [], 'val_loss': [], 'val_acc': []}\n",
    "    no_improve = 0\n",
    "\n",
    "    for epoch in range(1, num_epochs + 1):\n",
    "        start_epoch = time.time()\n",
    "        print(\"=\"*72)\n",
    "        print(f\"Epoch {epoch}/{num_epochs}\")\n",
    "\n",
    "        # ---------- TRAIN ----------\n",
    "        model.train()\n",
    "        running_loss, running_correct, running_total = 0.0, 0, 0\n",
    "        pbar = tqdm(train_loader, desc=f\"Train {epoch}/{num_epochs}\", leave=False)\n",
    "\n",
    "        for images, labels in pbar:\n",
    "            images, labels = images.to(device, non_blocking=True), labels.to(device, non_blocking=True)\n",
    "            optimizer.zero_grad(set_to_none=True)\n",
    "\n",
    "            with autocast_ctx():\n",
    "                outputs = model(images)\n",
    "                loss = criterion(outputs, labels)\n",
    "\n",
    "            scaler_local.scale(loss).backward()\n",
    "            scaler_local.unscale_(optimizer)  # gradient clipping\n",
    "            torch.nn.utils.clip_grad_norm_(model.parameters(), max_norm=2.0)\n",
    "            scaler_local.step(optimizer)\n",
    "            scaler_local.update()\n",
    "\n",
    "            preds = outputs.argmax(dim=1)\n",
    "            running_total += labels.size(0)\n",
    "            running_correct += (preds == labels).sum().item()\n",
    "            running_loss += loss.item() * labels.size(0)\n",
    "\n",
    "            pbar.set_postfix({'loss': f\"{running_loss/running_total:.4f}\",\n",
    "                              'acc':  f\"{running_correct/running_total:.4f}\"})\n",
    "\n",
    "        train_loss = running_loss / running_total\n",
    "        train_acc  = running_correct / running_total\n",
    "\n",
    "        # ---------- VALIDATE ----------\n",
    "        model.eval()\n",
    "        val_loss, val_correct, val_total = 0.0, 0, 0\n",
    "        with torch.no_grad():\n",
    "            vbar = tqdm(valid_loader, desc=f\"Valid {epoch}/{num_epochs}\", leave=False)\n",
    "            for images, labels in vbar:\n",
    "                images, labels = images.to(device, non_blocking=True), labels.to(device, non_blocking=True)\n",
    "                with autocast_ctx():\n",
    "                    outputs = model(images)\n",
    "                    loss = criterion(outputs, labels)\n",
    "\n",
    "                preds = outputs.argmax(dim=1)\n",
    "                val_total += labels.size(0)\n",
    "                val_correct += (preds == labels).sum().item()\n",
    "                val_loss += loss.item() * labels.size(0)\n",
    "\n",
    "                vbar.set_postfix({'vloss': f\"{val_loss/val_total:.4f}\",\n",
    "                                  'vacc':  f\"{val_correct/val_total:.4f}\"})\n",
    "\n",
    "        val_loss_epoch = val_loss / val_total\n",
    "        val_acc_epoch  = val_correct / val_total\n",
    "\n",
    "        # record history\n",
    "        history['train_loss'].append(train_loss)\n",
    "        history['train_acc'].append(train_acc)\n",
    "        history['val_loss'].append(val_loss_epoch)\n",
    "        history['val_acc'].append(val_acc_epoch)\n",
    "\n",
    "        epoch_time = time.time() - start_epoch\n",
    "        print(f\"Epoch {epoch} done in {epoch_time:.1f}s | \"\n",
    "              f\"Train Loss {train_loss:.4f} Acc {train_acc:.4f} | \"\n",
    "              f\"Val Loss {val_loss_epoch:.4f} Acc {val_acc_epoch:.4f}\")\n",
    "\n",
    "        # ---------- Checkpoint best ----------\n",
    "        if val_acc_epoch > best_val_acc:\n",
    "            best_val_acc = val_acc_epoch\n",
    "            best_epoch = epoch\n",
    "            ckpt = {\"epoch\": epoch, \"model_state\": model.state_dict(), \"optim_state\": optimizer.state_dict()}\n",
    "            torch.save(ckpt, os.path.join(save_path, f\"best_model_epoch{epoch}.pt\"))\n",
    "            print(f\"  Best model saved at epoch {epoch} (val_acc={val_acc_epoch:.4f})\")\n",
    "            no_improve = 0\n",
    "        else:\n",
    "            no_improve += 1\n",
    "\n",
    "        # early stopping\n",
    "        if no_improve >= early_stop_patience:\n",
    "            print(f\"Early stopping: no improvement for {early_stop_patience} epochs.\")\n",
    "            break\n",
    "\n",
    "        # scheduler step\n",
    "        if isinstance(scheduler, torch.optim.lr_scheduler.CosineAnnealingWarmRestarts):\n",
    "            scheduler.step(epoch + 1)  # fractional epoch step\n",
    "        else:\n",
    "            try:\n",
    "                scheduler.step(val_loss_epoch)\n",
    "            except Exception:\n",
    "                scheduler.step()\n",
    "\n",
    "    print(\"Training finished. Best val acc:\", best_val_acc, \"at epoch\", best_epoch)\n",
    "    return history, best_epoch\n",
    "\n",
    "# -----------------------------\n",
    "# Run Training\n",
    "# -----------------------------\n",
    "start_time = time.time()\n",
    "history, best_epoch = train_model(\n",
    "    model=model,\n",
    "    criterion=criterion,\n",
    "    optimizer=optimizer,\n",
    "    scheduler=scheduler,\n",
    "    train_loader=dataloader_train_dataset,\n",
    "    valid_loader=dataloader_valid_dataset,\n",
    "    num_epochs=30,\n",
    "    early_stop_patience=7,\n",
    "    save_path=save_path_checkpoints\n",
    ")\n",
    "end_time = time.time()\n",
    "print(f\"Training Time: {end_time-start_time:.2f}s ({(end_time-start_time)/60:.2f} min)\")\n",
    "\n",
    "# Save history to Excel\n",
    "hist_df = pd.DataFrame({\n",
    "    'Epoch': list(range(1, len(history['train_loss']) + 1)),\n",
    "    'Train Loss': history['train_loss'],\n",
    "    'Train Accuracy': history['train_acc'],\n",
    "    'Validation Loss': history['val_loss'],\n",
    "    'Validation Accuracy': history['val_acc']\n",
    "})\n",
    "os.makedirs(save_path_checkpoints, exist_ok=True)\n",
    "hist_df.to_excel(os.path.join(save_path_checkpoints, \"training_data.xlsx\"), index=False)\n",
    "print(\"History saved to:\", os.path.join(save_path_checkpoints, \"training_data.xlsx\"))"
   ]
  },
  {
   "cell_type": "code",
   "execution_count": 19,
   "id": "514ee82e",
   "metadata": {
    "execution": {
     "iopub.execute_input": "2025-08-28T14:57:54.434396Z",
     "iopub.status.busy": "2025-08-28T14:57:54.433982Z",
     "iopub.status.idle": "2025-08-28T14:57:54.438327Z",
     "shell.execute_reply": "2025-08-28T14:57:54.437777Z"
    },
    "papermill": {
     "duration": 2.230561,
     "end_time": "2025-08-28T14:57:54.439326",
     "exception": false,
     "start_time": "2025-08-28T14:57:52.208765",
     "status": "completed"
    },
    "tags": []
   },
   "outputs": [
    {
     "name": "stdout",
     "output_type": "stream",
     "text": [
      "Looking for file at: /kaggle/working/training_data.xlsx\n",
      "Exists? True\n"
     ]
    }
   ],
   "source": [
    "file_path = os.path.join(save_path_checkpoints, \"training_data.xlsx\")\n",
    "print(\"Looking for file at:\", file_path)\n",
    "print(\"Exists?\", os.path.exists(file_path))"
   ]
  },
  {
   "cell_type": "code",
   "execution_count": 20,
   "id": "05dd850a",
   "metadata": {
    "execution": {
     "iopub.execute_input": "2025-08-28T14:57:58.896957Z",
     "iopub.status.busy": "2025-08-28T14:57:58.896643Z",
     "iopub.status.idle": "2025-08-28T14:57:59.204028Z",
     "shell.execute_reply": "2025-08-28T14:57:59.203248Z"
    },
    "executionInfo": {
     "elapsed": 1179,
     "status": "ok",
     "timestamp": 1716720662690,
     "user": {
      "displayName": "Beautiful Mind",
      "userId": "18088270031962857328"
     },
     "user_tz": -360
    },
    "id": "Bs1FUrKPDWWC",
    "outputId": "a54b441e-e417-485d-f648-dc7ffccabd0c",
    "papermill": {
     "duration": 2.489316,
     "end_time": "2025-08-28T14:57:59.205276",
     "exception": false,
     "start_time": "2025-08-28T14:57:56.715960",
     "status": "completed"
    },
    "tags": []
   },
   "outputs": [
    {
     "data": {
      "image/png": "[encoded data removed]",
      "text/plain": [
       "<Figure size 1200x400 with 2 Axes>"
      ]
     },
     "metadata": {},
     "output_type": "display_data"
    }
   ],
   "source": [
    "import pandas as pd\n",
    "import matplotlib.pyplot as plt\n",
    "import os\n",
    "\n",
    "# Load history from the same path you saved\n",
    "history = pd.read_excel(os.path.join(save_path_checkpoints, \"training_data.xlsx\"))\n",
    "\n",
    "plt.figure(figsize=(12, 4))\n",
    "\n",
    "# Loss\n",
    "plt.subplot(1, 2, 1)\n",
    "plt.plot(history['Epoch'], history['Train Loss'], label='Train Loss')\n",
    "plt.plot(history['Epoch'], history['Validation Loss'], label='Validation Loss')\n",
    "plt.xlabel('Epochs')\n",
    "plt.ylabel('Loss')\n",
    "plt.legend(loc='upper right')\n",
    "plt.ylim(0, 5)\n",
    "\n",
    "# Accuracy\n",
    "plt.subplot(1, 2, 2)\n",
    "plt.plot(history['Epoch'], history['Train Accuracy'], label='Train Accuracy')\n",
    "plt.plot(history['Epoch'], history['Validation Accuracy'], label='Validation Accuracy')\n",
    "plt.xlabel('Epochs')\n",
    "plt.ylabel('Accuracy')\n",
    "plt.legend(loc='lower right')\n",
    "plt.ylim(0, 1.1)\n",
    "\n",
    "plt.show()"
   ]
  },
  {
   "cell_type": "markdown",
   "id": "42fd541e",
   "metadata": {
    "id": "8e4eead2",
    "papermill": {
     "duration": 2.320585,
     "end_time": "2025-08-28T14:58:03.821790",
     "exception": false,
     "start_time": "2025-08-28T14:58:01.501205",
     "status": "completed"
    },
    "tags": []
   },
   "source": [
    "### Evaluation"
   ]
  },
  {
   "cell_type": "code",
   "execution_count": 21,
   "id": "850f22e6",
   "metadata": {
    "execution": {
     "iopub.execute_input": "2025-08-28T14:58:08.200839Z",
     "iopub.status.busy": "2025-08-28T14:58:08.200483Z",
     "iopub.status.idle": "2025-08-28T14:59:01.787180Z",
     "shell.execute_reply": "2025-08-28T14:59:01.786355Z"
    },
    "executionInfo": {
     "elapsed": 2711,
     "status": "ok",
     "timestamp": 1716720680835,
     "user": {
      "displayName": "Beautiful Mind",
      "userId": "18088270031962857328"
     },
     "user_tz": -360
    },
    "id": "901810fc",
    "outputId": "1cf0a886-f401-4887-c94d-5636436f5303",
    "papermill": {
     "duration": 57.932531,
     "end_time": "2025-08-28T14:59:03.958228",
     "exception": false,
     "start_time": "2025-08-28T14:58:06.025697",
     "status": "completed"
    },
    "tags": []
   },
   "outputs": [
    {
     "name": "stdout",
     "output_type": "stream",
     "text": [
      "Loaded best model from epoch 29\n",
      "Validation Loss: 1.035, Validation Accuracy: 0.945\n",
      "Test Loss: 1.048, Test Accuracy: 0.940\n"
     ]
    }
   ],
   "source": [
    "# <<< CHANGED: load best checkpoint and evaluate on test set\n",
    "best_checkpoint_path = os.path.join(save_path_checkpoints, f\"best_model_epoch{best_epoch}.pt\")\n",
    "if os.path.exists(best_checkpoint_path):\n",
    "    checkpoint = torch.load(best_checkpoint_path, map_location=device)\n",
    "    model.load_state_dict(checkpoint[\"model_state\"])\n",
    "    print(f\"Loaded best model from epoch {checkpoint['epoch']}\")\n",
    "else:\n",
    "    print(\"Best checkpoint not found; using current model.\")\n",
    "\n",
    "def evaluate_model(model, criterion, dataloader):\n",
    "    model.eval()\n",
    "    running_loss = 0.0\n",
    "    correct = 0\n",
    "    total = 0\n",
    "    with torch.no_grad():\n",
    "        with autocast_ctx():\n",
    "            for inputs, labels in dataloader:\n",
    "                inputs, labels = inputs.to(device), labels.to(device)\n",
    "                outputs = model(inputs)\n",
    "                loss = criterion(outputs, labels)\n",
    "                _, predicted = torch.max(outputs, 1)\n",
    "                running_loss += loss.item() * inputs.size(0)\n",
    "                total += labels.size(0)\n",
    "                correct += (predicted == labels).sum().item()\n",
    "    return running_loss/total, correct/total\n",
    "\n",
    "best_val_loss, best_val_acc = evaluate_model(model, criterion, dataloader_valid_dataset)\n",
    "print(f\"Validation Loss: {best_val_loss:.3f}, Validation Accuracy: {best_val_acc:.3f}\")\n",
    "\n",
    "test_loss, test_acc = evaluate_model(model, criterion, dataloader_test_dataset)\n",
    "print(f\"Test Loss: {test_loss:.3f}, Test Accuracy: {test_acc:.3f}\")\n"
   ]
  },
  {
   "cell_type": "code",
   "execution_count": 22,
   "id": "a312a92b",
   "metadata": {
    "execution": {
     "iopub.execute_input": "2025-08-28T14:59:08.552061Z",
     "iopub.status.busy": "2025-08-28T14:59:08.551053Z",
     "iopub.status.idle": "2025-08-28T14:59:25.986556Z",
     "shell.execute_reply": "2025-08-28T14:59:25.985739Z"
    },
    "executionInfo": {
     "elapsed": 70105,
     "status": "ok",
     "timestamp": 1716720752547,
     "user": {
      "displayName": "Beautiful Mind",
      "userId": "18088270031962857328"
     },
     "user_tz": -360
    },
    "id": "86HEuGa9Np1U",
    "outputId": "31645e38-753f-459f-bc22-b26b284c6ace",
    "papermill": {
     "duration": 19.715798,
     "end_time": "2025-08-28T14:59:25.987890",
     "exception": false,
     "start_time": "2025-08-28T14:59:06.272092",
     "status": "completed"
    },
    "tags": []
   },
   "outputs": [
    {
     "name": "stdout",
     "output_type": "stream",
     "text": [
      "Test Accuracy: 0.940\n",
      "Test Time: 17.43 seconds ---> 0.29 minutes\n"
     ]
    }
   ],
   "source": [
    "start_time = time.time()\n",
    "test_loss, test_accuracy = evaluate_model(model, criterion, dataloader_test_dataset)\n",
    "print(f\"Test Accuracy: {test_accuracy:.3f}\")\n",
    "end_time = time.time()\n",
    "test_time = end_time - start_time\n",
    "print(f\"Test Time: {test_time:.2f} seconds ---> {test_time/60:.2f} minutes\")"
   ]
  },
  {
   "cell_type": "code",
   "execution_count": 23,
   "id": "b2f27860",
   "metadata": {
    "execution": {
     "iopub.execute_input": "2025-08-28T14:59:30.333818Z",
     "iopub.status.busy": "2025-08-28T14:59:30.332913Z",
     "iopub.status.idle": "2025-08-28T15:00:05.366419Z",
     "shell.execute_reply": "2025-08-28T15:00:05.365705Z"
    },
    "executionInfo": {
     "elapsed": 12895,
     "status": "ok",
     "timestamp": 1716720773041,
     "user": {
      "displayName": "Beautiful Mind",
      "userId": "18088270031962857328"
     },
     "user_tz": -360
    },
    "id": "4b3b5b94",
    "outputId": "fb407e4e-61b0-4d0c-9183-1bd0313fcfe0",
    "papermill": {
     "duration": 39.393587,
     "end_time": "2025-08-28T15:00:07.556452",
     "exception": false,
     "start_time": "2025-08-28T14:59:28.162865",
     "status": "completed"
    },
    "tags": []
   },
   "outputs": [
    {
     "name": "stderr",
     "output_type": "stream",
     "text": [
      "/tmp/ipykernel_19/1402858270.py:23: FutureWarning: `torch.cuda.amp.autocast(args...)` is deprecated. Please use `torch.amp.autocast('cuda', args...)` instead.\n",
      "  with torch.no_grad(), torch.cuda.amp.autocast(dtype=torch.float16):\n"
     ]
    },
    {
     "name": "stdout",
     "output_type": "stream",
     "text": [
      "Classification Report:\n",
      "                        precision    recall  f1-score   support\n",
      "\n",
      "        Astrocitoma T1      0.891     0.875     0.883        56\n",
      "      Astrocitoma T1C+      0.980     0.857     0.914        56\n",
      "        Astrocitoma T2      0.889     0.714     0.792        56\n",
      "          Carcinoma T1      1.000     0.909     0.952        55\n",
      "        Carcinoma T1C+      0.963     0.945     0.954        55\n",
      "          Carcinoma T2      0.981     0.945     0.963        55\n",
      "         Ependimoma T1      1.000     0.891     0.942        55\n",
      "       Ependimoma T1C+      1.000     0.982     0.991        55\n",
      "         Ependimoma T2      0.821     1.000     0.902        55\n",
      "      Ganglioglioma T1      0.966     1.000     0.982        56\n",
      "    Ganglioglioma T1C+      1.000     1.000     1.000        55\n",
      "      Ganglioglioma T2      0.946     0.946     0.946        56\n",
      "          Germinoma T1      0.982     1.000     0.991        55\n",
      "        Germinoma T1C+      0.964     0.982     0.973        55\n",
      "          Germinoma T2      0.982     1.000     0.991        55\n",
      "       Glioblastoma T1      0.982     0.982     0.982        56\n",
      "     Glioblastoma T1C+      0.932     0.982     0.957        56\n",
      "       Glioblastoma T2      0.914     0.964     0.938        55\n",
      "          Granuloma T1      0.982     1.000     0.991        55\n",
      "        Granuloma T1C+      0.982     0.982     0.982        55\n",
      "          Granuloma T2      0.965     1.000     0.982        55\n",
      "     Meduloblastoma T1      0.966     1.000     0.982        56\n",
      "   Meduloblastoma T1C+      0.931     0.982     0.956        55\n",
      "     Meduloblastoma T2      0.897     0.929     0.912        56\n",
      "         Meningioma T1      0.774     0.873     0.821        55\n",
      "       Meningioma T1C+      0.962     0.927     0.944        55\n",
      "         Meningioma T2      0.754     0.836     0.793        55\n",
      "        Neurocitoma T1      0.927     0.927     0.927        55\n",
      "      Neurocitoma T1C+      1.000     0.982     0.991        56\n",
      "        Neurocitoma T2      0.961     0.875     0.916        56\n",
      "  Oligodendroglioma T1      0.932     1.000     0.965        55\n",
      "Oligodendroglioma T1C+      0.982     0.982     0.982        55\n",
      "  Oligodendroglioma T2      0.962     0.911     0.936        56\n",
      "           Papiloma T1      0.965     0.982     0.973        56\n",
      "         Papiloma T1C+      0.945     0.945     0.945        55\n",
      "           Papiloma T2      0.948     0.982     0.965        56\n",
      "         Schwannoma T1      0.862     0.909     0.885        55\n",
      "       Schwannoma T1C+      0.961     0.891     0.925        55\n",
      "         Schwannoma T2      0.840     0.750     0.792        56\n",
      "        Tuberculoma T1      0.982     1.000     0.991        55\n",
      "      Tuberculoma T1C+      0.930     0.964     0.946        55\n",
      "        Tuberculoma T2      0.932     1.000     0.965        55\n",
      "            _NORMAL T1      0.959     0.839     0.895        56\n",
      "            _NORMAL T2      0.944     0.927     0.936        55\n",
      "\n",
      "              accuracy                          0.940      2436\n",
      "             macro avg      0.942     0.940     0.940      2436\n",
      "          weighted avg      0.942     0.940     0.940      2436\n",
      "\n"
     ]
    },
    {
     "name": "stderr",
     "output_type": "stream",
     "text": [
      "/tmp/ipykernel_19/1402858270.py:6: FutureWarning: `torch.cuda.amp.autocast(args...)` is deprecated. Please use `torch.amp.autocast('cuda', args...)` instead.\n",
      "  with torch.no_grad(), torch.cuda.amp.autocast(dtype=torch.float16):\n"
     ]
    },
    {
     "name": "stdout",
     "output_type": "stream",
     "text": [
      "Class 00 (Astrocitoma T1): Accuracy: 0.875\n",
      "Class 01 (Astrocitoma T1C+): Accuracy: 0.857\n",
      "Class 02 (Astrocitoma T2): Accuracy: 0.714\n",
      "Class 03 (Carcinoma T1): Accuracy: 0.909\n",
      "Class 04 (Carcinoma T1C+): Accuracy: 0.945\n",
      "Class 05 (Carcinoma T2): Accuracy: 0.945\n",
      "Class 06 (Ependimoma T1): Accuracy: 0.891\n",
      "Class 07 (Ependimoma T1C+): Accuracy: 0.982\n",
      "Class 08 (Ependimoma T2): Accuracy: 1.000\n",
      "Class 09 (Ganglioglioma T1): Accuracy: 1.000\n",
      "Class 10 (Ganglioglioma T1C+): Accuracy: 1.000\n",
      "Class 11 (Ganglioglioma T2): Accuracy: 0.946\n",
      "Class 12 (Germinoma T1): Accuracy: 1.000\n",
      "Class 13 (Germinoma T1C+): Accuracy: 0.982\n",
      "Class 14 (Germinoma T2): Accuracy: 1.000\n",
      "Class 15 (Glioblastoma T1): Accuracy: 0.982\n",
      "Class 16 (Glioblastoma T1C+): Accuracy: 0.982\n",
      "Class 17 (Glioblastoma T2): Accuracy: 0.964\n",
      "Class 18 (Granuloma T1): Accuracy: 1.000\n",
      "Class 19 (Granuloma T1C+): Accuracy: 0.982\n",
      "Class 20 (Granuloma T2): Accuracy: 1.000\n",
      "Class 21 (Meduloblastoma T1): Accuracy: 1.000\n",
      "Class 22 (Meduloblastoma T1C+): Accuracy: 0.982\n",
      "Class 23 (Meduloblastoma T2): Accuracy: 0.929\n",
      "Class 24 (Meningioma T1): Accuracy: 0.873\n",
      "Class 25 (Meningioma T1C+): Accuracy: 0.927\n",
      "Class 26 (Meningioma T2): Accuracy: 0.836\n",
      "Class 27 (Neurocitoma T1): Accuracy: 0.927\n",
      "Class 28 (Neurocitoma T1C+): Accuracy: 0.982\n",
      "Class 29 (Neurocitoma T2): Accuracy: 0.875\n",
      "Class 30 (Oligodendroglioma T1): Accuracy: 1.000\n",
      "Class 31 (Oligodendroglioma T1C+): Accuracy: 0.982\n",
      "Class 32 (Oligodendroglioma T2): Accuracy: 0.911\n",
      "Class 33 (Papiloma T1): Accuracy: 0.982\n",
      "Class 34 (Papiloma T1C+): Accuracy: 0.945\n",
      "Class 35 (Papiloma T2): Accuracy: 0.982\n",
      "Class 36 (Schwannoma T1): Accuracy: 0.909\n",
      "Class 37 (Schwannoma T1C+): Accuracy: 0.891\n",
      "Class 38 (Schwannoma T2): Accuracy: 0.750\n",
      "Class 39 (Tuberculoma T1): Accuracy: 1.000\n",
      "Class 40 (Tuberculoma T1C+): Accuracy: 0.964\n",
      "Class 41 (Tuberculoma T2): Accuracy: 1.000\n",
      "Class 42 (_NORMAL T1): Accuracy: 0.839\n",
      "Class 43 (_NORMAL T2): Accuracy: 0.927\n"
     ]
    }
   ],
   "source": [
    "def class_accuracy(model, dataloader, num_classes):\n",
    "    class_correct = [0.0] * num_classes\n",
    "    class_total = [0.0] * num_classes\n",
    "\n",
    "    model.eval()\n",
    "    with torch.no_grad(), torch.cuda.amp.autocast(dtype=torch.float16):\n",
    "        for inputs, labels in dataloader:\n",
    "            inputs, labels = inputs.to(device), labels.to(device)\n",
    "            outputs = model(inputs)\n",
    "            _, predicted = torch.max(outputs, 1)\n",
    "            correct = (predicted == labels)\n",
    "            for i in range(len(labels)):\n",
    "                label = labels[i].item()\n",
    "                class_correct[label] += correct[i].item()\n",
    "                class_total[label] += 1\n",
    "\n",
    "    class_acc = [class_correct[i] / class_total[i] if class_total[i] > 0 else 0 for i in range(num_classes)]\n",
    "    return class_acc\n",
    "\n",
    "# Collect predictions for classification report\n",
    "y_true, y_pred = [], []\n",
    "model.eval()\n",
    "with torch.no_grad(), torch.cuda.amp.autocast(dtype=torch.float16):\n",
    "    for inputs, labels in dataloader_test_dataset:\n",
    "        inputs, labels = inputs.to(device), labels.to(device)\n",
    "        outputs = model(inputs)\n",
    "        _, predicted = torch.max(outputs, 1)\n",
    "        y_true.extend(labels.cpu().numpy())\n",
    "        y_pred.extend(predicted.cpu().numpy())\n",
    "\n",
    "y_true = np.array(y_true)\n",
    "y_pred = np.array(y_pred)\n",
    "\n",
    "class_names = [idx_to_label[i] for i in range(num_classes)]  # <<< CHANGED: real names\n",
    "print(\"Classification Report:\")\n",
    "print(classification_report(y_true, y_pred, target_names=class_names, digits=3))\n",
    "\n",
    "class_acc = class_accuracy(model, dataloader_test_dataset, num_classes)\n",
    "for i in range(num_classes):\n",
    "    print(f\"Class {i:02d} ({idx_to_label[i]}): Accuracy: {class_acc[i]:.3f}\")"
   ]
  }
 ],
 "metadata": {
  "accelerator": "GPU",
  "colab": {
   "gpuType": "T4",
   "provenance": []
  },
  "kaggle": {
   "accelerator": "gpu",
   "dataSources": [
    {
     "datasetId": 8101109,
     "sourceId": 12811581,
     "sourceType": "datasetVersion"
    }
   ],
   "dockerImageVersionId": 31090,
   "isGpuEnabled": true,
   "isInternetEnabled": true,
   "language": "python",
   "sourceType": "notebook"
  },
  "kernelspec": {
   "display_name": "Python 3",
   "language": "python",
   "name": "python3"
  },
  "language_info": {
   "codemirror_mode": {
    "name": "ipython",
    "version": 3
   },
   "file_extension": ".py",
   "mimetype": "text/x-python",
   "name": "python",
   "nbconvert_exporter": "python",
   "pygments_lexer": "ipython3",
   "version": "3.11.13"
  },
  "papermill": {
   "default_parameters": {},
   "duration": 5094.444362,
   "end_time": "2025-08-28T15:00:12.558117",
   "environment_variables": {},
   "exception": null,
   "input_path": "__notebook__.ipynb",
   "output_path": "__notebook__.ipynb",
   "parameters": {},
   "start_time": "2025-08-28T13:35:18.113755",
   "version": "2.6.0"
  }
 },
 "nbformat": 4,
 "nbformat_minor": 5
}
